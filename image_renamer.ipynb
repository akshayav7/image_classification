{
 "cells": [
  {
   "attachments": {},
   "cell_type": "markdown",
   "id": "7bbf1bee",
   "metadata": {},
   "source": [
    "Adam Peetz, Regis Jesuit University 2023\n",
    "\n",
    "# Renaming Files \n",
    "\n",
    " \n",
    " \n",
    "\n",
    "The process of scraping images and cleaning duplicates from the dataset created a disjointed directory of file names that do not flow sequentially from 0 to their terminal value. All file names in the dataset will be renamed to sequential numeric values starting at 0. <br> \n",
    "\n",
    " \n",
    " \n",
    "\n",
    "The code used to rename files was inspired by a tutorial created by Amit Diwan (2022). \n",
    "\n",
    " "
   ]
  },
  {
   "cell_type": "code",
   "execution_count": 4,
   "id": "8a17887c",
   "metadata": {},
   "outputs": [],
   "source": [
    "#File renamer\n",
    "\n",
    "# import libraries\n",
    "import os\n",
    "\n",
    "# create count variable\n",
    "i = 0\n",
    "\n",
    "# define file path for renaming\n",
    "image_path = \"C:\\\\Users\\\\adamg\\\\Documents\\\\MSDS_692\\\\Week_2\\\\scraping_reddit\\\\datasets\\\\1\\\\\"\n",
    "\n",
    "# iterate through files in directory and rename to sequential numbers\n",
    "for file in os.listdir(image_path):\n",
    "    name = str(i) + \".jpg\"\n",
    "    target = image_path + file\n",
    "    name = image_path + name\n",
    "    os.rename(target, name)\n",
    "    i += 1"
   ]
  },
  {
   "attachments": {},
   "cell_type": "markdown",
   "id": "5880ceab",
   "metadata": {},
   "source": [
    "# References\n",
    "\n",
    "Diwan, Amit. (2022). Rename multiple files using Python. retreived 01/22/2023 from https://www.tutorialspoint.com/rename-multiple-files-using-python#:~:text=To%20rename%20files%20in%20Python,destination%20address%20(new%20name)"
   ]
  }
 ],
 "metadata": {
  "kernelspec": {
   "display_name": "Python 3 (ipykernel)",
   "language": "python",
   "name": "python3"
  },
  "language_info": {
   "codemirror_mode": {
    "name": "ipython",
    "version": 3
   },
   "file_extension": ".py",
   "mimetype": "text/x-python",
   "name": "python",
   "nbconvert_exporter": "python",
   "pygments_lexer": "ipython3",
   "version": "3.9.12"
  }
 },
 "nbformat": 4,
 "nbformat_minor": 5
}
