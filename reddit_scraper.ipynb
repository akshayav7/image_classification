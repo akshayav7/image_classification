{
 "cells": [
  {
   "attachments": {},
   "cell_type": "markdown",
   "id": "2d156bb1",
   "metadata": {},
   "source": [
    "Adam Peetz, Regis Jesuit University 2023 \n",
    "\n",
    " \n",
    " \n",
    "\n",
    "# Sourcing Images from Reddit \n",
    "\n",
    " \n",
    " \n",
    "\n",
    "Reddit allows users to scrape its data using an API. Using the API ensures the website's data is being accessed ethically; it adheres to rate limits and can only access areas that are authorized by the website's developers. The API's existence supports the use of Reddit data for this project. <br> \n",
    "\n",
    " \n",
    " \n",
    "\n",
    "Subreddit's have been created for posts of high-quality images. Two examples are the subreddits r/tankporn and r/carporn. These subreddits have moderators which remove posts that do not contain images. The specific subject matter and moderation of these subreddits makes them ideal sources for streams of images that can be used in machine learning projects.<br> \n",
    "\n",
    " \n",
    " \n",
    "\n",
    "First, a path is defined for where the images will be saved. Credentials for accessing the Reddit API are stored and imported from a separate python module to protect the token's owner. Then the code iterates through post URLs and downloads any that end in .jpg or .png. The notebook was created using a combination of code inspired by Jacob Lower (2022), and Regis Jesuit's MSDS600 curriculum. \n",
    "\n",
    " "
   ]
  },
  {
   "cell_type": "code",
   "execution_count": 3,
   "id": "7394c9f2",
   "metadata": {
    "scrolled": false
   },
   "outputs": [
    {
     "name": "stderr",
     "output_type": "stream",
     "text": [
      "257it [01:37,  1.54it/s]"
     ]
    },
    {
     "name": "stdout",
     "output_type": "stream",
     "text": [
      "Image failed. https://www.mansory.com/sites/default/files/styles/1920x_fullwidth_image/public/2022-12/mc20-nr.778-3.jpg?itok=yve6aerl\n",
      "OpenCV(4.6.0) D:\\a\\opencv-python\\opencv-python\\opencv\\modules\\imgcodecs\\src\\loadsave.cpp:801: error: (-215:Assertion failed) !_img.empty() in function 'cv::imwrite'\n",
      "\n"
     ]
    },
    {
     "name": "stderr",
     "output_type": "stream",
     "text": [
      "982it [06:29,  2.52it/s]\n"
     ]
    }
   ],
   "source": [
    "# Reddit Scraper\n",
    "\n",
    "# Import libraries\n",
    "import praw\n",
    "import requests\n",
    "import cv2\n",
    "import numpy as np\n",
    "import os\n",
    "from tqdm import tqdm\n",
    "import credentials\n",
    "\n",
    "# path to save images\n",
    "image_path = \"C:\\\\Users\\\\adamg\\\\Documents\\\\MSDS_692\\\\Week_2\\\\scraping_reddit\\\\images\\\\\"\n",
    "\n",
    "# praw object praw.reddit.Reddit\n",
    "reddit = praw.Reddit(client_id=credentials.client_id,\n",
    "                     client_secret=credentials.client_secret,\n",
    "                     user_agent=credentials.user_agent)\n",
    "\n",
    "# subreddit to scrape\n",
    "subreddit = reddit.subreddit(\"carporn\")\n",
    "\n",
    "# counter for naming files\n",
    "count = 0\n",
    "\n",
    "# iterate through submissions and download submissions ending in .jpg or .png\n",
    "for submission in tqdm(subreddit.new(limit=1000)):\n",
    "    if \"jpg\" in submission.url.lower() or \"png\" in submission.url.lower():\n",
    "        try:\n",
    "            resp = requests.get(submission.url.lower(), stream=True).raw\n",
    "            image = np.asarray(bytearray(resp.read()), dtype=\"uint8\")\n",
    "            image = cv2.imdecode(image, cv2.IMREAD_COLOR)\n",
    "            cv2.imwrite(f\"{image_path}{count}.jpg\", image)\n",
    "            count += 1\n",
    "                    \n",
    "        except Exception as e:\n",
    "            print(f\"Image failed. {submission.url.lower()}\")\n",
    "            print(e)"
   ]
  },
  {
   "attachments": {},
   "cell_type": "markdown",
   "id": "50a941b3",
   "metadata": {},
   "source": [
    "# References\n",
    "\n",
    "Lower, Jacob. (2022). RedditImageScraper. retreived 01/13/2023 from https://github.com/ClarityCoders/RedditImageScraper <br>\n",
    "\n",
    "MSDS600. (2021). Week 7 Reddit Scraping. Regis University "
   ]
  }
 ],
 "metadata": {
  "kernelspec": {
   "display_name": "Python 3 (ipykernel)",
   "language": "python",
   "name": "python3"
  },
  "language_info": {
   "codemirror_mode": {
    "name": "ipython",
    "version": 3
   },
   "file_extension": ".py",
   "mimetype": "text/x-python",
   "name": "python",
   "nbconvert_exporter": "python",
   "pygments_lexer": "ipython3",
   "version": "3.9.12"
  }
 },
 "nbformat": 4,
 "nbformat_minor": 5
}
